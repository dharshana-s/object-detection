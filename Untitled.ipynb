{
 "cells": [
  {
   "cell_type": "code",
   "execution_count": null,
   "id": "01497845-4a1f-4b52-a0ae-ae9161d8f94c",
   "metadata": {},
   "outputs": [],
   "source": [
    "!pip install torch torchvision torchaudio\n",
    "!pip install opencv-python-headless\n",
    "!pip install gTTS\n"
   ]
  },
  {
   "cell_type": "code",
   "execution_count": null,
   "id": "f9f63465-fa17-4a6e-a203-75b7c4e83833",
   "metadata": {},
   "outputs": [],
   "source": [
    "import torch\n",
    "\n",
    "# Load YOLOv5 model (pre-trained on COCO dataset)\n",
    "model = torch.hub.load('ultralytics/yolov5', 'yolov5s', pretrained=True)\n",
    "model.eval()  # Set the model to evaluation mode\n"
   ]
  },
  {
   "cell_type": "code",
   "execution_count": null,
   "id": "07c57823-6e4a-4a7a-9b68-6e4b307bb3c2",
   "metadata": {},
   "outputs": [],
   "source": [
    "import cv2\n",
    "\n",
    "# Initialize webcam\n",
    "cap = cv2.VideoCapture(0)  # 0 is usually the default webcam\n",
    "\n",
    "def capture_frame():\n",
    "    ret, frame = cap.read()\n",
    "    if not ret:\n",
    "        print(\"Failed to capture image\")\n",
    "        return None\n",
    "    return frame\n"
   ]
  },
  {
   "cell_type": "code",
   "execution_count": null,
   "id": "49d4ff30-cbb3-4049-8ca5-6084dadcba20",
   "metadata": {},
   "outputs": [],
   "source": [
    "def detect_objects(frame):\n",
    "    # Resize frame to 640x640 for YOLO\n",
    "    img_resized = cv2.resize(frame, (640, 640))\n",
    "    # Convert to RGB format as PyTorch expects this format\n",
    "    img_rgb = cv2.cvtColor(img_resized, cv2.COLOR_BGR2RGB)\n",
    "    \n",
    "    # Perform inference\n",
    "    results = model(img_rgb)\n",
    "    \n",
    "    # Parse the results\n",
    "    detected_objects = results.pandas().xyxy[0]  # Bounding box coordinates and labels\n",
    "    return detected_objects\n"
   ]
  },
  {
   "cell_type": "code",
   "execution_count": null,
   "id": "aff8e3d1-552c-476b-85e6-cfe5bb322af1",
   "metadata": {},
   "outputs": [],
   "source": [
    "from gtts import gTTS\n",
    "import os\n",
    "\n",
    "def speak(text):\n",
    "    # Convert text to speech\n",
    "    tts = gTTS(text=text, lang='en')\n",
    "    tts.save(\"detected_object.mp3\")\n",
    "    os.system(\"start detected_object.mp3\")  # For Windows; use 'afplay' on Mac or 'mpg321' on Linux\n"
   ]
  },
  {
   "cell_type": "code",
   "execution_count": null,
   "id": "220801a0-87e4-457a-a33a-6de899a0c884",
   "metadata": {},
   "outputs": [],
   "source": [
    "import time\n",
    "\n",
    "def main_loop():\n",
    "    last_object_spoken = \"\"\n",
    "    while cap.isOpened():\n",
    "        # Capture a frame\n",
    "        frame = capture_frame()\n",
    "        if frame is None:\n",
    "            break\n",
    "\n",
    "        # Detect objects\n",
    "        detected_objects = detect_objects(frame)\n",
    "        \n",
    "        # Filter and announce detected objects\n",
    "        for _, obj in detected_objects.iterrows():\n",
    "            obj_name = obj['name']\n",
    "            confidence = obj['confidence']\n",
    "            \n",
    "            # Announce only if confidence is high and it's a new object\n",
    "            if confidence > 0.5 and obj_name != last_object_spoken:\n",
    "                speak(f\"I see a {obj_name}\")\n",
    "                last_object_spoken = obj_name  # Avoid repetitive announcements\n",
    "                time.sleep(2)  # Wait to avoid overlapping announcements\n",
    "\n",
    "        # Display frame with detected objects (optional)\n",
    "        cv2.imshow(\"Object Detection\", frame)\n",
    "        \n",
    "        # Break loop on pressing 'q'\n",
    "        if cv2.waitKey(1) & 0xFF == ord('q'):\n",
    "            break\n",
    "\n",
    "    cap.release()\n",
    "    cv2.destroyAllWindows()\n",
    "\n",
    "# Run the main loop\n",
    "main_loop()\n"
   ]
  },
  {
   "cell_type": "code",
   "execution_count": null,
   "id": "5eceeda3-9e46-404a-9684-b621cb91301c",
   "metadata": {},
   "outputs": [],
   "source": [
    "!pip install torch torchvision torchaudio opencv-python-headless gTTS\n"
   ]
  },
  {
   "cell_type": "code",
   "execution_count": null,
   "id": "7af1c77c-99e4-42a1-8a9c-64b482f183cc",
   "metadata": {},
   "outputs": [],
   "source": [
    "import torch\n",
    "import cv2\n",
    "from gtts import gTTS\n",
    "import os\n",
    "import time\n",
    "\n",
    "# Load the YOLOv5 model from PyTorch Hub\n",
    "model = torch.hub.load('ultralytics/yolov5', 'yolov5s', pretrained=True)\n",
    "model.eval()  # Set to evaluation mode\n"
   ]
  },
  {
   "cell_type": "code",
   "execution_count": null,
   "id": "c4293033-b12b-4a62-8b75-4a632c9bf52b",
   "metadata": {},
   "outputs": [],
   "source": [
    "# Initialize webcam\n",
    "cap = cv2.VideoCapture(0)  # '0' is typically the default camera on your system\n",
    "\n",
    "def capture_frame():\n",
    "    ret, frame = cap.read()\n",
    "    if not ret:\n",
    "        print(\"Failed to capture image\")\n",
    "        return None\n",
    "    return frame\n"
   ]
  },
  {
   "cell_type": "code",
   "execution_count": null,
   "id": "dbfa586c-a6bf-44ab-b1f4-4690714bae9e",
   "metadata": {},
   "outputs": [],
   "source": [
    "def detect_objects(frame):\n",
    "    # Resize frame for YOLO (640x640 is standard for YOLOv5)\n",
    "    img_resized = cv2.resize(frame, (640, 640))\n",
    "    # Convert image to RGB\n",
    "    img_rgb = cv2.cvtColor(img_resized, cv2.COLOR_BGR2RGB)\n",
    "    \n",
    "    # Perform inference\n",
    "    results = model(img_rgb)\n",
    "    \n",
    "    # Extract detected objects and their labels\n",
    "    detected_objects = results.pandas().xyxy[0]  # Bounding box and label data\n",
    "    return detected_objects\n",
    "\n",
    "def speak(text):\n",
    "    # Use Google Text-to-Speech (gTTS) to convert text to audio\n",
    "    tts = gTTS(text=text, lang='en')\n",
    "    tts.save(\"detected_object.mp3\")\n",
    "    os.system(\"start detected_object.mp3\")  # 'start' for Windows; use 'afplay' on Mac or 'mpg321' on Linux\n"
   ]
  },
  {
   "cell_type": "code",
   "execution_count": null,
   "id": "f2906ffb-eca6-4976-8c5f-257537fb4649",
   "metadata": {},
   "outputs": [],
   "source": [
    "def main_loop():\n",
    "    last_object_spoken = \"\"  # To avoid repetitive announcements\n",
    "    while cap.isOpened():\n",
    "        # Capture a frame\n",
    "        frame = capture_frame()\n",
    "        if frame is None:\n",
    "            break\n",
    "\n",
    "        # Detect objects in the frame\n",
    "        detected_objects = detect_objects(frame)\n",
    "        \n",
    "        # Loop through detected objects and give voice feedback\n",
    "        for _, obj in detected_objects.iterrows():\n",
    "            obj_name = obj['name']\n",
    "            confidence = obj['confidence']\n",
    "            \n",
    "            # Speak out only new objects with high confidence\n",
    "            if confidence > 0.5 and obj_name != last_object_spoken:\n",
    "                speak(f\"I see a {obj_name}\")\n",
    "                last_object_spoken = obj_name  # Update last spoken object\n",
    "                time.sleep(2)  # Small delay to avoid overlapping speech\n",
    "\n",
    "        # Display frame with detection results (optional)\n",
    "        cv2.imshow(\"Object Detection\", frame)\n",
    "        \n",
    "        # Break loop if 'q' key is pressed\n",
    "        if cv2.waitKey(1) & 0xFF == ord('q'):\n",
    "            break\n",
    "\n",
    "    # Release resources\n",
    "    cap.release()\n",
    "    cv2.destroyAllWindows()\n",
    "\n",
    "# Run the main loop\n",
    "main_loop()\n"
   ]
  },
  {
   "cell_type": "code",
   "execution_count": null,
   "id": "577c1b66-0899-424c-b36b-202978de7dc4",
   "metadata": {},
   "outputs": [],
   "source": [
    "!pip install opencv-python\n",
    "\n",
    "\n"
   ]
  },
  {
   "cell_type": "code",
   "execution_count": null,
   "id": "4fe67acc-3420-42d6-b7f8-d73470c3f8b6",
   "metadata": {},
   "outputs": [],
   "source": [
    "!pip uninstall opencv-python-headless\n"
   ]
  },
  {
   "cell_type": "code",
   "execution_count": null,
   "id": "fdb90689-26ee-4351-899c-0869399f3cc8",
   "metadata": {},
   "outputs": [],
   "source": []
  },
  {
   "cell_type": "code",
   "execution_count": null,
   "id": "230df3f0-ffa5-4be6-9b2c-865b4cb15135",
   "metadata": {},
   "outputs": [],
   "source": []
  }
 ],
 "metadata": {
  "kernelspec": {
   "display_name": "Python 3 (ipykernel)",
   "language": "python",
   "name": "python3"
  },
  "language_info": {
   "codemirror_mode": {
    "name": "ipython",
    "version": 3
   },
   "file_extension": ".py",
   "mimetype": "text/x-python",
   "name": "python",
   "nbconvert_exporter": "python",
   "pygments_lexer": "ipython3",
   "version": "3.10.11"
  }
 },
 "nbformat": 4,
 "nbformat_minor": 5
}
