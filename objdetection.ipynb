{
 "cells": [
  {
   "cell_type": "code",
   "execution_count": null,
   "id": "01497845-4a1f-4b52-a0ae-ae9161d8f94c",
   "metadata": {},
   "outputs": [],
   "source": []
  }
 ],
 "metadata": {
  "kernelspec": {
   "display_name": "",
   "name": ""
  },
  "language_info": {
   "name": ""
  }
 },
 "nbformat": 4,
 "nbformat_minor": 5
}
